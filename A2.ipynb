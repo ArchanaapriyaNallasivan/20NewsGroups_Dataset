{
 "cells": [
  {
   "cell_type": "markdown",
   "metadata": {},
   "source": [
    "<span style=\"color:black\"><center>PROCESS OF DATA SCIENCE</center></span>\n",
    
    "## Introduction\n",
    "In this assignment, a part of the 20 newsgroups dataset is being used.'20 newsgroups dataset' is a part of Scikit learn which could be found\n",
    "[here](https://scikit-learn.org/0.19/datasets/twenty_newsgroups.html).This complete dataset is a raw text which can be divided into five major categories Data, Target, Target Names,Filenames and DESCR. However, the focus is to work on 'Data' and 'Target' part only, wherein 'Data' is processed and along with 'Target' text, it is used to fit a classifier. \n",
    "In sklearn, this newsgroup dataset is splitted into training and testing set but it is not utilized for this assignment.The dataset is manually splitted in training and testing(70-30%) set.\n",
    "\n",
    "\n",
    "---\n",
    "\n",
    "Answer : 1 \n",
    "\n",
    "\n",
    "Collocation Extraction\n",
    "\n",
    "---\n",
    "\n",
    "\n",
    "\n",
    "To download the newsgroup data, firstly all the relevant libraries are imported. After importing the libraries, out of 20 categories of newsgroups data, only four categories(alt.atheism, talk.religion.misc, comp.graphics, sci.space) has been taken into consideration. \n",
    "\n"
   ]
  },
  {
   "cell_type": "code",
   "execution_count": 1,
   "metadata": {},
   "outputs": [],
   "source": [
    "#Importing all necessary libraries\n",
    "\n",
    "from sklearn.datasets import fetch_20newsgroups\n",
    "import nltk\n",
    "from nltk.tokenize import sent_tokenize, word_tokenize\n",
    "from pprint import pprint\n",
    "from nltk.collocations import *\n",
    "import re\n",
    "import string\n",
    "from nltk.stem import PorterStemmer\n",
    "from nltk.tokenize import sent_tokenize, word_tokenize\n",
    "from sklearn.pipeline import Pipeline\n",
    "from sklearn.model_selection import train_test_split\n",
    "from sklearn.svm import LinearSVC\n",
    "from sklearn.feature_extraction.text import CountVectorizer\n",
    "from sklearn import svm\n",
    "from sklearn.naive_bayes import MultinomialNB\n",
    "from sklearn.feature_extraction.text import TfidfVectorizer\n",
    "from sklearn.feature_extraction.text import TfidfTransformer\n",
    "\n"
   ]
  },
  {
   "cell_type": "code",
   "execution_count": 2,
   "metadata": {},
   "outputs": [],
   "source": [
    "#Considering four newsgroups dataset from '20 newsgroups dataset'\n",
    "\n",
    "newsgroups_data = ['alt.atheism', 'talk.religion.misc','comp.graphics','sci.space']\n",
    "newsgroups_record = fetch_20newsgroups(subset='all', categories=newsgroups_data)"
   ]
  },
  {
   "cell_type": "markdown",
   "metadata": {},
   "source": [
    "\n",
    "Answer : 1(a)\n",
    "\n",
    "----\n",
    "\n",
    "Collocation Extraction - Tokenization and Part-of-Speech tagging\n",
    "\n",
    "Pre-requisite to Tokenization\n",
    "\n",
    "----\n",
    "\n",
    "Before performing tokenization, basic cleaning is performed on the dataset like removing numbers and non letter characters. Once the data is cleaned, standard tokenisation technique has been used and then on those tokenized words POS tagging has been performed.\n",
    "\n"
   ]
  },
  {
   "cell_type": "code",
   "execution_count": 3,
   "metadata": {},
   "outputs": [],
   "source": [
    "# Function to remove numbers and other non-letter characters. This function is checking if the text has URL,\n",
    "# a number or special characters and then returning the cleaned text\n",
    "\n",
    "def clean_newsgroup_text(text):  \n",
    "        if(re.search(\"http[:.A-Za-z0-9\\/]*\",text)):\n",
    "            text=re.sub(\"http[:.A-Za-z0-9\\/]*\",'',text)\n",
    "        if(re.search(r'\\d', text)):\n",
    "            text=re.sub(r'\\d','',text)            \n",
    "        if(re.search(\"[`~!@#$%^&*,]\",text)):\n",
    "            text=re.sub(\"[`:~!@#$%^&*]\",'',text)\n",
    "        regex = re.compile('[' + re.escape(string.punctuation) + '\\\\r\\\\t\\\\n]')\n",
    "        text = regex.sub(\" \",text)\n",
    "        \n",
    "        return text"
   ]
  },
  {
   "cell_type": "code",
   "execution_count": 4,
   "metadata": {},
   "outputs": [
    {
     "name": "stdout",
     "output_type": "stream",
     "text": [
      "3387\n"
     ]
    }
   ],
   "source": [
    "# Cleaning the dataset and stored it in 'clean_newsgroup_data'\n",
    "\n",
    "clean_newsgroup_data = []\n",
    "for i in range(len(newsgroups_record.data)):\n",
    "    clean_text=clean_newsgroup_text(newsgroups_record.data[i])\n",
    "    clean_newsgroup_data.append(clean_text)\n",
    "pprint(len(clean_newsgroup_data))"
   ]
  },
  {
   "cell_type": "markdown",
   "metadata": {},
   "source": [
    "Performing tokenization and POS tagging\n",
    "\n",
    "----"
   ]
  },
  {
   "cell_type": "code",
   "execution_count": 5,
   "metadata": {},
   "outputs": [
    {
     "name": "stdout",
     "output_type": "stream",
     "text": [
      "1064239\n"
     ]
    }
   ],
   "source": [
    "# Performing tokenization on 'clean_newsgroup_data' ( No numbers and no non-letter characters present)\n",
    "tokenized_text_full = []\n",
    "for i in range(len(clean_newsgroup_data)):\n",
    "    \n",
    "    tokenized_text=word_tokenize(clean_newsgroup_data[i])\n",
    "    for j in range(len(tokenized_text)):\n",
    "         tokenized_text_full.append(tokenized_text[j])\n",
    "pprint(len(tokenized_text_full))"
   ]
  },
  {
   "cell_type": "code",
   "execution_count": 6,
   "metadata": {},
   "outputs": [],
   "source": [
    "# Perform POS tagging on 'tokenized_text_full' (Tokenized data)\n",
    "newsgroup_pos = nltk.pos_tag(tokenized_text_full)"
   ]
  },
  {
   "cell_type": "code",
   "execution_count": 7,
   "metadata": {
    "scrolled": true
   },
   "outputs": [
    {
     "name": "stdout",
     "output_type": "stream",
     "text": [
      "1064239\n"
     ]
    }
   ],
   "source": [
    "pprint(len(newsgroup_pos))"
   ]
  },
  {
   "cell_type": "markdown",
   "metadata": {},
   "source": [
    "\n",
    "Answer : 1(b)\n",
    "\n",
    "----\n",
    "\n",
    "Collocation Extraction - Bigram collocation \n",
    "\n",
    "----\n",
    "\n",
    "Pre-requisite to Bigram Collocation extraction\n",
    "\n",
    "----\n",
    "Before extracting the bigram collocation from the corpus,then remove the Stopwords from the corpus to get the better visibility of meaningful bigram collocations. Once the stopwords are removed, below mentioned techniques are used to extract bugram collocations - \n",
    "\n",
    "1. Frequency with Filter\n",
    "2. PMI\n",
    "3. T-test with filter\n",
    "4. chi-sq test\n",
    "\n",
    "Note: Only top 20 results of each techniques is shown here.\n",
    "\n"
   ]
  },
  {
   "cell_type": "code",
   "execution_count": 8,
   "metadata": {},
   "outputs": [],
   "source": [
    "# Converting data into lowercase for perfoming stopword removal (since few stopword with capital letter were ignored)\n",
    "\n",
    "newsword_lower = []\n",
    "for w in range(len(tokenized_text_full)):\n",
    "    if((len(tokenized_text_full[w]))>2):\n",
    "        newsword_lower.append(tokenized_text_full[w].lower())\n"
   ]
  },
  {
   "cell_type": "code",
   "execution_count": 9,
   "metadata": {},
   "outputs": [
    {
     "data": {
      "text/plain": [
       "826372"
      ]
     },
     "execution_count": 9,
     "metadata": {},
     "output_type": "execute_result"
    }
   ],
   "source": [
    "len(newsword_lower)"
   ]
  },
  {
   "cell_type": "code",
   "execution_count": 10,
   "metadata": {},
   "outputs": [
    {
     "name": "stdout",
     "output_type": "stream",
     "text": [
      "{'do', 'have', 'this', 'about', 'their', 'wouldn', \"that'll\", 'll', 'aren', 'at', 'only', 't', 'such', 'so', 'you', 've', 'couldn', 'the', 'few', 'further', 'up', 'which', \"wasn't\", 'how', 'me', 'its', 'for', 'nor', 'will', 'shan', 'has', 'myself', \"she's\", \"hadn't\", 'wasn', 'themselves', 'very', 'y', 'haven', 'now', 'him', 'what', 'not', \"doesn't\", 'we', 'out', 'over', 'does', 'shouldn', 'yourself', 'once', 'they', 'should', 'he', 'some', \"don't\", \"isn't\", 'there', \"you'd\", 'is', 'below', 'isn', 'most', 'theirs', \"you've\", 'yourselves', 'that', 'an', \"needn't\", 'had', 'o', \"should've\", 'doing', 'before', 'against', 're', 'no', 'other', 'needn', 'himself', 'having', 'ours', 'each', 'were', 'itself', 'while', 'didn', \"it's\", 'under', 'through', 'with', 'more', 'until', 'again', 'our', 'herself', 'hadn', 'between', 'am', \"won't\", 'yours', \"mustn't\", 'd', 'same', 'my', 'both', 'mustn', 'in', 'who', 'them', 'any', 'these', 'during', 'after', 'ourselves', 'ma', 'and', 'on', 'above', 'her', 'hasn', 'from', 'than', 'it', 'if', 'just', 'weren', 'a', 'when', 'mightn', 'as', 'i', 'can', 'did', 'but', 'won', 'or', \"didn't\", 'off', \"hasn't\", 'being', \"haven't\", 'into', \"couldn't\", \"mightn't\", 'she', 'own', 'was', 'here', \"aren't\", 'by', 'hers', 'why', \"shouldn't\", 'been', \"wouldn't\", 'because', 's', 'of', 'down', 'ain', 'to', 'then', 'doesn', 'whom', \"you'll\", \"shan't\", 'be', 'where', 'm', \"you're\", 'those', 'are', 'all', \"weren't\", 'too', 'your', 'don', 'his'}\n"
     ]
    }
   ],
   "source": [
    "#fetching the standard stopwords from English language dictionary\n",
    "\n",
    "from nltk.corpus import stopwords\n",
    "stop_words=set(stopwords.words(\"english\"))\n",
    "print(stop_words)"
   ]
  },
  {
   "cell_type": "code",
   "execution_count": 11,
   "metadata": {},
   "outputs": [
    {
     "name": "stdout",
     "output_type": "stream",
     "text": [
      "582540\n"
     ]
    }
   ],
   "source": [
    "# removing the stopwords from corpus on basis of stopwords available in English dictionary\n",
    "\n",
    "filtered_sent=[]\n",
    "tokenized_sent = newsword_lower\n",
    "for w in tokenized_sent:\n",
    "    if w not in stop_words:\n",
    "        filtered_sent.append(w)\n",
    "pprint(len(filtered_sent))"
   ]
  },
  {
   "cell_type": "markdown",
   "metadata": {},
   "source": [
    "----\n",
    "Extracting Bigram Collocation using \"Frequency with filter\" technique\n",
    "\n",
    "In this bigram collocation extraction technique, we are first calculating the occurance of each bigram-collocation and then, using the POS filter to filter out bigram collocation which occur in a sequence of Noun-Noun, Noun-Adjective,  "
   ]
  },
  {
   "cell_type": "code",
   "execution_count": 12,
   "metadata": {},
   "outputs": [],
   "source": [
    "bigrams = nltk.collocations.BigramAssocMeasures()\n",
    "bigramFinder = nltk.collocations.BigramCollocationFinder.from_words(filtered_sent)"
   ]
  },
  {
   "cell_type": "code",
   "execution_count": 13,
   "metadata": {},
   "outputs": [],
   "source": [
    "def posType(ngram):\n",
    "    pos_type1 = ('JJ','NN','NNS', 'NNP', 'NNPS')\n",
    "    pos_type2 = ('NN', 'NNS', 'NNP', 'NNPS')\n",
    "    tags = nltk.pos_tag(ngram)\n",
    "    if tags[0][1] in pos_type1 and tags[1][1] in pos_type1:\n",
    "        return True\n",
    "    else:\n",
    "        return False\n",
    "\n"
   ]
  },
  {
   "cell_type": "code",
   "execution_count": 14,
   "metadata": {},
   "outputs": [
    {
     "data": {
      "text/plain": [
       "0               (lines, article)\n",
       "1                  (lines, nntp)\n",
       "2                 (article, apr)\n",
       "3     (organization, university)\n",
       "4                    (nasa, gov)\n",
       "5              (writes, article)\n",
       "6          (distribution, world)\n",
       "7                 (caltech, edu)\n",
       "8                    (uiuc, edu)\n",
       "9          (lines, distribution)\n",
       "10                    (sgi, com)\n",
       "11                  (apple, com)\n",
       "12                    (cmu, edu)\n",
       "13                    (wpd, sgi)\n",
       "14                (toronto, edu)\n",
       "15                 (world, nntp)\n",
       "16                   (cso, uiuc)\n",
       "17                 (alaska, edu)\n",
       "18        (sandviknewton, apple)\n",
       "19                   (cwru, edu)\n",
       "Name: bigram, dtype: object"
      ]
     },
     "execution_count": 14,
     "metadata": {},
     "output_type": "execute_result"
    }
   ],
   "source": [
    "import pandas as pd\n",
    "\n",
    "#extracting the frequency of bigram-collocation using filter\n",
    "bigramFinder.apply_freq_filter(20)\n",
    "\n",
    "\n",
    "\n",
    "bigram_freq = bigramFinder.ngram_fd.items()\n",
    "bigramFreqTable = pd.DataFrame(list(bigram_freq), columns=['bigram','freq']).sort_values(by='freq', ascending=False).head(23)\n",
    "\n",
    "\n",
    "filtered_bigram_freq = bigramFreqTable[bigramFreqTable.bigram.map(lambda x: posType(x))]\n",
    "\n",
    "#re-setting the index of dataframe\n",
    "bigramFreqTable_reset = filtered_bigram_freq.reset_index(drop=True,inplace=False)\n",
    "bigramFreqTable_reset['bigram']\n"
   ]
  },
  {
   "cell_type": "markdown",
   "metadata": {},
   "source": [
    "----\n",
    "\n",
    "Extracting Bigram Collocation using \"PMI technique\"\n",
    "\n",
    "----"
   ]
  },
  {
   "cell_type": "code",
   "execution_count": 15,
   "metadata": {},
   "outputs": [
    {
     "data": {
      "text/html": [
       "<div>\n",
       "<style scoped>\n",
       "    .dataframe tbody tr th:only-of-type {\n",
       "        vertical-align: middle;\n",
       "    }\n",
       "\n",
       "    .dataframe tbody tr th {\n",
       "        vertical-align: top;\n",
       "    }\n",
       "\n",
       "    .dataframe thead th {\n",
       "        text-align: right;\n",
       "    }\n",
       "</style>\n",
       "<table border=\"1\" class=\"dataframe\">\n",
       "  <thead>\n",
       "    <tr style=\"text-align: right;\">\n",
       "      <th></th>\n",
       "      <th>bigram</th>\n",
       "      <th>PMI</th>\n",
       "    </tr>\n",
       "  </thead>\n",
       "  <tbody>\n",
       "    <tr>\n",
       "      <th>0</th>\n",
       "      <td>(mayans, televison)</td>\n",
       "      <td>14.830069</td>\n",
       "    </tr>\n",
       "    <tr>\n",
       "      <th>1</th>\n",
       "      <td>(televison, repo)</td>\n",
       "      <td>14.830069</td>\n",
       "    </tr>\n",
       "    <tr>\n",
       "      <th>2</th>\n",
       "      <td>(tmcspartan, brocku)</td>\n",
       "      <td>14.692566</td>\n",
       "    </tr>\n",
       "    <tr>\n",
       "      <th>3</th>\n",
       "      <td>(evelyn, conlon)</td>\n",
       "      <td>14.692566</td>\n",
       "    </tr>\n",
       "    <tr>\n",
       "      <th>4</th>\n",
       "      <td>(hatching, odwyersse)</td>\n",
       "      <td>14.692566</td>\n",
       "    </tr>\n",
       "    <tr>\n",
       "      <th>5</th>\n",
       "      <td>(hens, evelyn)</td>\n",
       "      <td>14.692566</td>\n",
       "    </tr>\n",
       "    <tr>\n",
       "      <th>6</th>\n",
       "      <td>(odwyersse, hens)</td>\n",
       "      <td>14.692566</td>\n",
       "    </tr>\n",
       "    <tr>\n",
       "      <th>7</th>\n",
       "      <td>(acoopermac, macalstr)</td>\n",
       "      <td>14.451558</td>\n",
       "    </tr>\n",
       "    <tr>\n",
       "      <th>8</th>\n",
       "      <td>(notre, dame)</td>\n",
       "      <td>14.451558</td>\n",
       "    </tr>\n",
       "    <tr>\n",
       "      <th>9</th>\n",
       "      <td>(xxxx, xxxx)</td>\n",
       "      <td>14.441504</td>\n",
       "    </tr>\n",
       "    <tr>\n",
       "      <th>10</th>\n",
       "      <td>(duck, pond)</td>\n",
       "      <td>14.441027</td>\n",
       "    </tr>\n",
       "    <tr>\n",
       "      <th>11</th>\n",
       "      <td>(eau, claire)</td>\n",
       "      <td>14.397110</td>\n",
       "    </tr>\n",
       "    <tr>\n",
       "      <th>12</th>\n",
       "      <td>(organpipe, uug)</td>\n",
       "      <td>14.397110</td>\n",
       "    </tr>\n",
       "    <tr>\n",
       "      <th>13</th>\n",
       "      <td>(telos, aweto)</td>\n",
       "      <td>14.294017</td>\n",
       "    </tr>\n",
       "    <tr>\n",
       "      <th>14</th>\n",
       "      <td>(timmbakemcl, ucsb)</td>\n",
       "      <td>14.294017</td>\n",
       "    </tr>\n",
       "    <tr>\n",
       "      <th>15</th>\n",
       "      <td>(physik, unizh)</td>\n",
       "      <td>14.280512</td>\n",
       "    </tr>\n",
       "    <tr>\n",
       "      <th>16</th>\n",
       "      <td>(dpsnasa, kodak)</td>\n",
       "      <td>14.245107</td>\n",
       "    </tr>\n",
       "    <tr>\n",
       "      <th>17</th>\n",
       "      <td>(southwestern, louisiana)</td>\n",
       "      <td>14.174718</td>\n",
       "    </tr>\n",
       "    <tr>\n",
       "      <th>18</th>\n",
       "      <td>(comme, aucun)</td>\n",
       "      <td>14.151998</td>\n",
       "    </tr>\n",
       "    <tr>\n",
       "      <th>19</th>\n",
       "      <td>(cites, enclosed)</td>\n",
       "      <td>14.088988</td>\n",
       "    </tr>\n",
       "  </tbody>\n",
       "</table>\n",
       "</div>"
      ],
      "text/plain": [
       "                       bigram        PMI\n",
       "0         (mayans, televison)  14.830069\n",
       "1           (televison, repo)  14.830069\n",
       "2        (tmcspartan, brocku)  14.692566\n",
       "3            (evelyn, conlon)  14.692566\n",
       "4       (hatching, odwyersse)  14.692566\n",
       "5              (hens, evelyn)  14.692566\n",
       "6           (odwyersse, hens)  14.692566\n",
       "7      (acoopermac, macalstr)  14.451558\n",
       "8               (notre, dame)  14.451558\n",
       "9                (xxxx, xxxx)  14.441504\n",
       "10               (duck, pond)  14.441027\n",
       "11              (eau, claire)  14.397110\n",
       "12           (organpipe, uug)  14.397110\n",
       "13             (telos, aweto)  14.294017\n",
       "14        (timmbakemcl, ucsb)  14.294017\n",
       "15            (physik, unizh)  14.280512\n",
       "16           (dpsnasa, kodak)  14.245107\n",
       "17  (southwestern, louisiana)  14.174718\n",
       "18             (comme, aucun)  14.151998\n",
       "19          (cites, enclosed)  14.088988"
      ]
     },
     "execution_count": 15,
     "metadata": {},
     "output_type": "execute_result"
    }
   ],
   "source": [
    "#pmi test after filter\n",
    "\n",
    "#finding top 20 bigram-collocation based on PMI\n",
    "bigram_pmi_words = bigramFinder.nbest(bigrams.pmi, 20) \n",
    "\n",
    "#finding bigram-collocation along with the n-gram score\n",
    "bigramPMITable = pd.DataFrame(list(bigramFinder.score_ngrams(bigrams.pmi)), columns=['bigram','PMI']).sort_values(by='PMI', ascending=False).head(20)\n",
    "bigramPMITable\n"
   ]
  },
  {
   "cell_type": "markdown",
   "metadata": {},
   "source": [
    "----\n",
    "Extracting Bigram Collocation using \"t-test with filter technique\"\n",
    "\n"
   ]
  },
  {
   "cell_type": "code",
   "execution_count": 16,
   "metadata": {},
   "outputs": [
    {
     "data": {
      "text/html": [
       "<div>\n",
       "<style scoped>\n",
       "    .dataframe tbody tr th:only-of-type {\n",
       "        vertical-align: middle;\n",
       "    }\n",
       "\n",
       "    .dataframe tbody tr th {\n",
       "        vertical-align: top;\n",
       "    }\n",
       "\n",
       "    .dataframe thead th {\n",
       "        text-align: right;\n",
       "    }\n",
       "</style>\n",
       "<table border=\"1\" class=\"dataframe\">\n",
       "  <thead>\n",
       "    <tr style=\"text-align: right;\">\n",
       "      <th></th>\n",
       "      <th>bigram</th>\n",
       "      <th>t</th>\n",
       "    </tr>\n",
       "  </thead>\n",
       "  <tbody>\n",
       "    <tr>\n",
       "      <th>0</th>\n",
       "      <td>(nntp, posting)</td>\n",
       "      <td>38.561834</td>\n",
       "    </tr>\n",
       "    <tr>\n",
       "      <th>1</th>\n",
       "      <td>(posting, host)</td>\n",
       "      <td>38.518012</td>\n",
       "    </tr>\n",
       "    <tr>\n",
       "      <th>2</th>\n",
       "      <td>(lines, article)</td>\n",
       "      <td>29.430273</td>\n",
       "    </tr>\n",
       "    <tr>\n",
       "      <th>3</th>\n",
       "      <td>(lines, nntp)</td>\n",
       "      <td>24.262751</td>\n",
       "    </tr>\n",
       "    <tr>\n",
       "      <th>4</th>\n",
       "      <td>(article, apr)</td>\n",
       "      <td>23.821560</td>\n",
       "    </tr>\n",
       "    <tr>\n",
       "      <th>5</th>\n",
       "      <td>(nasa, gov)</td>\n",
       "      <td>22.763974</td>\n",
       "    </tr>\n",
       "    <tr>\n",
       "      <th>6</th>\n",
       "      <td>(organization, university)</td>\n",
       "      <td>22.611169</td>\n",
       "    </tr>\n",
       "    <tr>\n",
       "      <th>7</th>\n",
       "      <td>(writes, article)</td>\n",
       "      <td>21.729291</td>\n",
       "    </tr>\n",
       "    <tr>\n",
       "      <th>8</th>\n",
       "      <td>(distribution, world)</td>\n",
       "      <td>19.219727</td>\n",
       "    </tr>\n",
       "    <tr>\n",
       "      <th>9</th>\n",
       "      <td>(caltech, edu)</td>\n",
       "      <td>18.149871</td>\n",
       "    </tr>\n",
       "    <tr>\n",
       "      <th>10</th>\n",
       "      <td>(uiuc, edu)</td>\n",
       "      <td>18.000919</td>\n",
       "    </tr>\n",
       "    <tr>\n",
       "      <th>11</th>\n",
       "      <td>(lines, distribution)</td>\n",
       "      <td>17.519562</td>\n",
       "    </tr>\n",
       "    <tr>\n",
       "      <th>12</th>\n",
       "      <td>(sgi, com)</td>\n",
       "      <td>17.199892</td>\n",
       "    </tr>\n",
       "    <tr>\n",
       "      <th>13</th>\n",
       "      <td>(apple, com)</td>\n",
       "      <td>16.441819</td>\n",
       "    </tr>\n",
       "    <tr>\n",
       "      <th>14</th>\n",
       "      <td>(cmu, edu)</td>\n",
       "      <td>16.196986</td>\n",
       "    </tr>\n",
       "    <tr>\n",
       "      <th>15</th>\n",
       "      <td>(wpd, sgi)</td>\n",
       "      <td>14.919111</td>\n",
       "    </tr>\n",
       "    <tr>\n",
       "      <th>16</th>\n",
       "      <td>(cso, uiuc)</td>\n",
       "      <td>14.688487</td>\n",
       "    </tr>\n",
       "    <tr>\n",
       "      <th>17</th>\n",
       "      <td>(world, nntp)</td>\n",
       "      <td>14.620603</td>\n",
       "    </tr>\n",
       "    <tr>\n",
       "      <th>18</th>\n",
       "      <td>(toronto, edu)</td>\n",
       "      <td>14.566710</td>\n",
       "    </tr>\n",
       "    <tr>\n",
       "      <th>19</th>\n",
       "      <td>(sandviknewton, apple)</td>\n",
       "      <td>14.517710</td>\n",
       "    </tr>\n",
       "  </tbody>\n",
       "</table>\n",
       "</div>"
      ],
      "text/plain": [
       "                        bigram          t\n",
       "0              (nntp, posting)  38.561834\n",
       "1              (posting, host)  38.518012\n",
       "2             (lines, article)  29.430273\n",
       "3                (lines, nntp)  24.262751\n",
       "4               (article, apr)  23.821560\n",
       "5                  (nasa, gov)  22.763974\n",
       "6   (organization, university)  22.611169\n",
       "7            (writes, article)  21.729291\n",
       "8        (distribution, world)  19.219727\n",
       "9               (caltech, edu)  18.149871\n",
       "10                 (uiuc, edu)  18.000919\n",
       "11       (lines, distribution)  17.519562\n",
       "12                  (sgi, com)  17.199892\n",
       "13                (apple, com)  16.441819\n",
       "14                  (cmu, edu)  16.196986\n",
       "15                  (wpd, sgi)  14.919111\n",
       "16                 (cso, uiuc)  14.688487\n",
       "17               (world, nntp)  14.620603\n",
       "18              (toronto, edu)  14.566710\n",
       "19      (sandviknewton, apple)  14.517710"
      ]
     },
     "execution_count": 16,
     "metadata": {},
     "output_type": "execute_result"
    }
   ],
   "source": [
    "#t - test\n",
    "\n",
    "#finding top 20 bigram-collocation based on t-test\n",
    "bigram_ttest_words = bigramFinder.nbest(bigrams.student_t, 20) \n",
    "\n",
    "bigramTtable = pd.DataFrame(list(bigramFinder.score_ngrams(bigrams.student_t)), columns=['bigram','t']).sort_values(by='t', ascending=False).head(20)\n",
    "\n",
    "bigramTtable\n"
   ]
  },
  {
   "cell_type": "markdown",
   "metadata": {},
   "source": [
    "----\n",
    "\n",
    "Extracting Bigram Collocation using \"chi-test technique\"\n",
    "\n",
    "----"
   ]
  },
  {
   "cell_type": "code",
   "execution_count": 17,
   "metadata": {},
   "outputs": [
    {
     "data": {
      "text/html": [
       "<div>\n",
       "<style scoped>\n",
       "    .dataframe tbody tr th:only-of-type {\n",
       "        vertical-align: middle;\n",
       "    }\n",
       "\n",
       "    .dataframe tbody tr th {\n",
       "        vertical-align: top;\n",
       "    }\n",
       "\n",
       "    .dataframe thead th {\n",
       "        text-align: right;\n",
       "    }\n",
       "</style>\n",
       "<table border=\"1\" class=\"dataframe\">\n",
       "  <thead>\n",
       "    <tr style=\"text-align: right;\">\n",
       "      <th></th>\n",
       "      <th>bigram</th>\n",
       "      <th>chi-squared</th>\n",
       "    </tr>\n",
       "  </thead>\n",
       "  <tbody>\n",
       "    <tr>\n",
       "      <th>0</th>\n",
       "      <td>(alink, ksand)</td>\n",
       "      <td>582540.000000</td>\n",
       "    </tr>\n",
       "    <tr>\n",
       "      <th>6</th>\n",
       "      <td>(mayans, televison)</td>\n",
       "      <td>582540.000000</td>\n",
       "    </tr>\n",
       "    <tr>\n",
       "      <th>1</th>\n",
       "      <td>(carnegie, mellon)</td>\n",
       "      <td>582540.000000</td>\n",
       "    </tr>\n",
       "    <tr>\n",
       "      <th>9</th>\n",
       "      <td>(odwyersse, hens)</td>\n",
       "      <td>582540.000000</td>\n",
       "    </tr>\n",
       "    <tr>\n",
       "      <th>8</th>\n",
       "      <td>(notre, dame)</td>\n",
       "      <td>582540.000000</td>\n",
       "    </tr>\n",
       "    <tr>\n",
       "      <th>7</th>\n",
       "      <td>(mchp, sni)</td>\n",
       "      <td>582540.000000</td>\n",
       "    </tr>\n",
       "    <tr>\n",
       "      <th>10</th>\n",
       "      <td>(televison, repo)</td>\n",
       "      <td>582540.000000</td>\n",
       "    </tr>\n",
       "    <tr>\n",
       "      <th>5</th>\n",
       "      <td>(hens, evelyn)</td>\n",
       "      <td>582540.000000</td>\n",
       "    </tr>\n",
       "    <tr>\n",
       "      <th>4</th>\n",
       "      <td>(hatching, odwyersse)</td>\n",
       "      <td>582540.000000</td>\n",
       "    </tr>\n",
       "    <tr>\n",
       "      <th>3</th>\n",
       "      <td>(evelyn, conlon)</td>\n",
       "      <td>582540.000000</td>\n",
       "    </tr>\n",
       "    <tr>\n",
       "      <th>2</th>\n",
       "      <td>(comme, aucun)</td>\n",
       "      <td>582540.000000</td>\n",
       "    </tr>\n",
       "    <tr>\n",
       "      <th>11</th>\n",
       "      <td>(cookamunga, tourist)</td>\n",
       "      <td>573844.387948</td>\n",
       "    </tr>\n",
       "    <tr>\n",
       "      <th>12</th>\n",
       "      <td>(isuvacation, venari)</td>\n",
       "      <td>569875.108620</td>\n",
       "    </tr>\n",
       "    <tr>\n",
       "      <th>13</th>\n",
       "      <td>(steinn, sigurdsson)</td>\n",
       "      <td>566357.361053</td>\n",
       "    </tr>\n",
       "    <tr>\n",
       "      <th>14</th>\n",
       "      <td>(eau, claire)</td>\n",
       "      <td>560963.481439</td>\n",
       "    </tr>\n",
       "    <tr>\n",
       "      <th>15</th>\n",
       "      <td>(organpipe, uug)</td>\n",
       "      <td>560963.481439</td>\n",
       "    </tr>\n",
       "    <tr>\n",
       "      <th>16</th>\n",
       "      <td>(tmcspartan, brocku)</td>\n",
       "      <td>556059.954511</td>\n",
       "    </tr>\n",
       "    <tr>\n",
       "      <th>17</th>\n",
       "      <td>(cacs, usl)</td>\n",
       "      <td>552274.389135</td>\n",
       "    </tr>\n",
       "    <tr>\n",
       "      <th>18</th>\n",
       "      <td>(bmd, trw)</td>\n",
       "      <td>551047.567113</td>\n",
       "    </tr>\n",
       "    <tr>\n",
       "      <th>19</th>\n",
       "      <td>(cobbalexia, lis)</td>\n",
       "      <td>544708.051370</td>\n",
       "    </tr>\n",
       "  </tbody>\n",
       "</table>\n",
       "</div>"
      ],
      "text/plain": [
       "                   bigram    chi-squared\n",
       "0          (alink, ksand)  582540.000000\n",
       "6     (mayans, televison)  582540.000000\n",
       "1      (carnegie, mellon)  582540.000000\n",
       "9       (odwyersse, hens)  582540.000000\n",
       "8           (notre, dame)  582540.000000\n",
       "7             (mchp, sni)  582540.000000\n",
       "10      (televison, repo)  582540.000000\n",
       "5          (hens, evelyn)  582540.000000\n",
       "4   (hatching, odwyersse)  582540.000000\n",
       "3        (evelyn, conlon)  582540.000000\n",
       "2          (comme, aucun)  582540.000000\n",
       "11  (cookamunga, tourist)  573844.387948\n",
       "12  (isuvacation, venari)  569875.108620\n",
       "13   (steinn, sigurdsson)  566357.361053\n",
       "14          (eau, claire)  560963.481439\n",
       "15       (organpipe, uug)  560963.481439\n",
       "16   (tmcspartan, brocku)  556059.954511\n",
       "17            (cacs, usl)  552274.389135\n",
       "18             (bmd, trw)  551047.567113\n",
       "19      (cobbalexia, lis)  544708.051370"
      ]
     },
     "execution_count": 17,
     "metadata": {},
     "output_type": "execute_result"
    }
   ],
   "source": [
    "#chi squared - test\n",
    "from nltk.metrics import BigramAssocMeasures\n",
    "\n",
    "#finding top 20 bigram-collocation based on t-test\n",
    "bigram_chitest_words = bigramFinder.nbest(BigramAssocMeasures.chi_sq,20)\n",
    "\n",
    "\n",
    "bigramchisqtable = pd.DataFrame(list(bigramFinder.score_ngrams(BigramAssocMeasures.chi_sq)), columns=['bigram','chi-squared']).sort_values(by='chi-squared', ascending=False).head(20)\n",
    "bigramchisqtable"
   ]
  },
  {
   "cell_type": "markdown",
   "metadata": {},
   "source": [
    "----\n",
    "\n",
    "Answer : 1(c)\n",
    "\n",
    "----\n",
    "\n",
    "Comparing different filtering techniques using table\n",
    "\n",
    "Here we can observe that top 20 results of each technique is different set of bigram-collocation. However, we can also observe some overlapping in the results of different techniques.Results from PMI test and chi-square test seems to be overlapping upto some extent. However, results from Frequency test seems to overlap with t-test results.\n",
    "While comparing PMI and chi-squared technique, the overlapping percentage observed to be approximately 55% whereas frquency with filter technique shows around 90% overall of bigram collocation with ttest technique. \n",
    "\n",
    "And therefore,it is recommended to take the union of the result of these techniques because union will avoid the repeated word and will consider only unique bigram collocation across techniques.\n",
    "\n",
    "\n",
    "\n",
    "----"
   ]
  },
  {
   "cell_type": "code",
   "execution_count": 18,
   "metadata": {},
   "outputs": [
    {
     "data": {
      "text/plain": [
       "55.00000000000001"
      ]
     },
     "execution_count": 18,
     "metadata": {},
     "output_type": "execute_result"
    }
   ],
   "source": [
    "#overlapping words in PMI and chi-squared technique\n",
    "\n",
    "n_list = []\n",
    "\n",
    "n_list.append([x for x in bigram_chitest_words if x in bigram_pmi_words])\n",
    "\n",
    "overlap_percentage = (len(n_list[0])/20)*100\n",
    "\n",
    "overlap_percentage\n"
   ]
  },
  {
   "cell_type": "code",
   "execution_count": 19,
   "metadata": {},
   "outputs": [
    {
     "data": {
      "text/plain": [
       "90.0"
      ]
     },
     "execution_count": 19,
     "metadata": {},
     "output_type": "execute_result"
    }
   ],
   "source": [
    "#overlapping words in frequency with filter and ttest technique\n",
    "n_list2 = []\n",
    "\n",
    "n_list2.append([h for h in bigramFreqTable_reset['bigram'] if h in bigram_ttest_words])\n",
    "\n",
    "overlap_percentage = (len(n_list2[0])/20)*100\n",
    "overlap_percentage\n"
   ]
  },
  {
   "cell_type": "markdown",
   "metadata": {},
   "source": [
    "Below is the complete table for comparision of bigram-collocation extracted from different techniques.\n",
    "\n",
    "---"
   ]
  },
  {
   "cell_type": "code",
   "execution_count": 20,
   "metadata": {},
   "outputs": [
    {
     "data": {
      "text/html": [
       "<div>\n",
       "<style scoped>\n",
       "    .dataframe tbody tr th:only-of-type {\n",
       "        vertical-align: middle;\n",
       "    }\n",
       "\n",
       "    .dataframe tbody tr th {\n",
       "        vertical-align: top;\n",
       "    }\n",
       "\n",
       "    .dataframe thead th {\n",
       "        text-align: right;\n",
       "    }\n",
       "</style>\n",
       "<table border=\"1\" class=\"dataframe\">\n",
       "  <thead>\n",
       "    <tr style=\"text-align: right;\">\n",
       "      <th></th>\n",
       "      <th>bigram</th>\n",
       "      <th>freq</th>\n",
       "      <th>bigram</th>\n",
       "      <th>PMI</th>\n",
       "      <th>bigram</th>\n",
       "      <th>t</th>\n",
       "      <th>bigram</th>\n",
       "      <th>chi-squared</th>\n",
       "    </tr>\n",
       "  </thead>\n",
       "  <tbody>\n",
       "    <tr>\n",
       "      <th>0</th>\n",
       "      <td>(lines, article)</td>\n",
       "      <td>895</td>\n",
       "      <td>(mayans, televison)</td>\n",
       "      <td>14.830069</td>\n",
       "      <td>(nntp, posting)</td>\n",
       "      <td>38.561834</td>\n",
       "      <td>(alink, ksand)</td>\n",
       "      <td>582540.000000</td>\n",
       "    </tr>\n",
       "    <tr>\n",
       "      <th>1</th>\n",
       "      <td>(lines, nntp)</td>\n",
       "      <td>607</td>\n",
       "      <td>(televison, repo)</td>\n",
       "      <td>14.830069</td>\n",
       "      <td>(posting, host)</td>\n",
       "      <td>38.518012</td>\n",
       "      <td>(carnegie, mellon)</td>\n",
       "      <td>582540.000000</td>\n",
       "    </tr>\n",
       "    <tr>\n",
       "      <th>2</th>\n",
       "      <td>(article, apr)</td>\n",
       "      <td>576</td>\n",
       "      <td>(tmcspartan, brocku)</td>\n",
       "      <td>14.692566</td>\n",
       "      <td>(lines, article)</td>\n",
       "      <td>29.430273</td>\n",
       "      <td>(comme, aucun)</td>\n",
       "      <td>582540.000000</td>\n",
       "    </tr>\n",
       "    <tr>\n",
       "      <th>3</th>\n",
       "      <td>(organization, university)</td>\n",
       "      <td>530</td>\n",
       "      <td>(evelyn, conlon)</td>\n",
       "      <td>14.692566</td>\n",
       "      <td>(lines, nntp)</td>\n",
       "      <td>24.262751</td>\n",
       "      <td>(evelyn, conlon)</td>\n",
       "      <td>582540.000000</td>\n",
       "    </tr>\n",
       "    <tr>\n",
       "      <th>4</th>\n",
       "      <td>(nasa, gov)</td>\n",
       "      <td>521</td>\n",
       "      <td>(hatching, odwyersse)</td>\n",
       "      <td>14.692566</td>\n",
       "      <td>(article, apr)</td>\n",
       "      <td>23.821560</td>\n",
       "      <td>(hatching, odwyersse)</td>\n",
       "      <td>582540.000000</td>\n",
       "    </tr>\n",
       "    <tr>\n",
       "      <th>5</th>\n",
       "      <td>(writes, article)</td>\n",
       "      <td>494</td>\n",
       "      <td>(hens, evelyn)</td>\n",
       "      <td>14.692566</td>\n",
       "      <td>(nasa, gov)</td>\n",
       "      <td>22.763974</td>\n",
       "      <td>(hens, evelyn)</td>\n",
       "      <td>582540.000000</td>\n",
       "    </tr>\n",
       "    <tr>\n",
       "      <th>6</th>\n",
       "      <td>(distribution, world)</td>\n",
       "      <td>372</td>\n",
       "      <td>(odwyersse, hens)</td>\n",
       "      <td>14.692566</td>\n",
       "      <td>(organization, university)</td>\n",
       "      <td>22.611169</td>\n",
       "      <td>(mayans, televison)</td>\n",
       "      <td>582540.000000</td>\n",
       "    </tr>\n",
       "    <tr>\n",
       "      <th>7</th>\n",
       "      <td>(caltech, edu)</td>\n",
       "      <td>338</td>\n",
       "      <td>(acoopermac, macalstr)</td>\n",
       "      <td>14.451558</td>\n",
       "      <td>(writes, article)</td>\n",
       "      <td>21.729291</td>\n",
       "      <td>(mchp, sni)</td>\n",
       "      <td>582540.000000</td>\n",
       "    </tr>\n",
       "    <tr>\n",
       "      <th>8</th>\n",
       "      <td>(uiuc, edu)</td>\n",
       "      <td>332</td>\n",
       "      <td>(notre, dame)</td>\n",
       "      <td>14.451558</td>\n",
       "      <td>(distribution, world)</td>\n",
       "      <td>19.219727</td>\n",
       "      <td>(notre, dame)</td>\n",
       "      <td>582540.000000</td>\n",
       "    </tr>\n",
       "    <tr>\n",
       "      <th>9</th>\n",
       "      <td>(lines, distribution)</td>\n",
       "      <td>316</td>\n",
       "      <td>(xxxx, xxxx)</td>\n",
       "      <td>14.441504</td>\n",
       "      <td>(caltech, edu)</td>\n",
       "      <td>18.149871</td>\n",
       "      <td>(odwyersse, hens)</td>\n",
       "      <td>582540.000000</td>\n",
       "    </tr>\n",
       "    <tr>\n",
       "      <th>10</th>\n",
       "      <td>(sgi, com)</td>\n",
       "      <td>302</td>\n",
       "      <td>(duck, pond)</td>\n",
       "      <td>14.441027</td>\n",
       "      <td>(uiuc, edu)</td>\n",
       "      <td>18.000919</td>\n",
       "      <td>(televison, repo)</td>\n",
       "      <td>582540.000000</td>\n",
       "    </tr>\n",
       "    <tr>\n",
       "      <th>11</th>\n",
       "      <td>(apple, com)</td>\n",
       "      <td>274</td>\n",
       "      <td>(eau, claire)</td>\n",
       "      <td>14.397110</td>\n",
       "      <td>(lines, distribution)</td>\n",
       "      <td>17.519562</td>\n",
       "      <td>(cookamunga, tourist)</td>\n",
       "      <td>573844.387948</td>\n",
       "    </tr>\n",
       "    <tr>\n",
       "      <th>12</th>\n",
       "      <td>(cmu, edu)</td>\n",
       "      <td>269</td>\n",
       "      <td>(organpipe, uug)</td>\n",
       "      <td>14.397110</td>\n",
       "      <td>(sgi, com)</td>\n",
       "      <td>17.199892</td>\n",
       "      <td>(isuvacation, venari)</td>\n",
       "      <td>569875.108620</td>\n",
       "    </tr>\n",
       "    <tr>\n",
       "      <th>13</th>\n",
       "      <td>(wpd, sgi)</td>\n",
       "      <td>223</td>\n",
       "      <td>(telos, aweto)</td>\n",
       "      <td>14.294017</td>\n",
       "      <td>(apple, com)</td>\n",
       "      <td>16.441819</td>\n",
       "      <td>(steinn, sigurdsson)</td>\n",
       "      <td>566357.361053</td>\n",
       "    </tr>\n",
       "    <tr>\n",
       "      <th>14</th>\n",
       "      <td>(toronto, edu)</td>\n",
       "      <td>221</td>\n",
       "      <td>(timmbakemcl, ucsb)</td>\n",
       "      <td>14.294017</td>\n",
       "      <td>(cmu, edu)</td>\n",
       "      <td>16.196986</td>\n",
       "      <td>(eau, claire)</td>\n",
       "      <td>560963.481439</td>\n",
       "    </tr>\n",
       "    <tr>\n",
       "      <th>15</th>\n",
       "      <td>(world, nntp)</td>\n",
       "      <td>219</td>\n",
       "      <td>(physik, unizh)</td>\n",
       "      <td>14.280512</td>\n",
       "      <td>(wpd, sgi)</td>\n",
       "      <td>14.919111</td>\n",
       "      <td>(organpipe, uug)</td>\n",
       "      <td>560963.481439</td>\n",
       "    </tr>\n",
       "    <tr>\n",
       "      <th>16</th>\n",
       "      <td>(cso, uiuc)</td>\n",
       "      <td>216</td>\n",
       "      <td>(dpsnasa, kodak)</td>\n",
       "      <td>14.245107</td>\n",
       "      <td>(cso, uiuc)</td>\n",
       "      <td>14.688487</td>\n",
       "      <td>(tmcspartan, brocku)</td>\n",
       "      <td>556059.954511</td>\n",
       "    </tr>\n",
       "    <tr>\n",
       "      <th>17</th>\n",
       "      <td>(alaska, edu)</td>\n",
       "      <td>213</td>\n",
       "      <td>(southwestern, louisiana)</td>\n",
       "      <td>14.174718</td>\n",
       "      <td>(world, nntp)</td>\n",
       "      <td>14.620603</td>\n",
       "      <td>(cacs, usl)</td>\n",
       "      <td>552274.389135</td>\n",
       "    </tr>\n",
       "    <tr>\n",
       "      <th>18</th>\n",
       "      <td>(sandviknewton, apple)</td>\n",
       "      <td>211</td>\n",
       "      <td>(comme, aucun)</td>\n",
       "      <td>14.151998</td>\n",
       "      <td>(toronto, edu)</td>\n",
       "      <td>14.566710</td>\n",
       "      <td>(bmd, trw)</td>\n",
       "      <td>551047.567113</td>\n",
       "    </tr>\n",
       "    <tr>\n",
       "      <th>19</th>\n",
       "      <td>(cwru, edu)</td>\n",
       "      <td>204</td>\n",
       "      <td>(cites, enclosed)</td>\n",
       "      <td>14.088988</td>\n",
       "      <td>(sandviknewton, apple)</td>\n",
       "      <td>14.517710</td>\n",
       "      <td>(cobbalexia, lis)</td>\n",
       "      <td>544708.051370</td>\n",
       "    </tr>\n",
       "  </tbody>\n",
       "</table>\n",
       "</div>"
      ],
      "text/plain": [
       "                        bigram  freq                     bigram        PMI  \\\n",
       "0             (lines, article)   895        (mayans, televison)  14.830069   \n",
       "1                (lines, nntp)   607          (televison, repo)  14.830069   \n",
       "2               (article, apr)   576       (tmcspartan, brocku)  14.692566   \n",
       "3   (organization, university)   530           (evelyn, conlon)  14.692566   \n",
       "4                  (nasa, gov)   521      (hatching, odwyersse)  14.692566   \n",
       "5            (writes, article)   494             (hens, evelyn)  14.692566   \n",
       "6        (distribution, world)   372          (odwyersse, hens)  14.692566   \n",
       "7               (caltech, edu)   338     (acoopermac, macalstr)  14.451558   \n",
       "8                  (uiuc, edu)   332              (notre, dame)  14.451558   \n",
       "9        (lines, distribution)   316               (xxxx, xxxx)  14.441504   \n",
       "10                  (sgi, com)   302               (duck, pond)  14.441027   \n",
       "11                (apple, com)   274              (eau, claire)  14.397110   \n",
       "12                  (cmu, edu)   269           (organpipe, uug)  14.397110   \n",
       "13                  (wpd, sgi)   223             (telos, aweto)  14.294017   \n",
       "14              (toronto, edu)   221        (timmbakemcl, ucsb)  14.294017   \n",
       "15               (world, nntp)   219            (physik, unizh)  14.280512   \n",
       "16                 (cso, uiuc)   216           (dpsnasa, kodak)  14.245107   \n",
       "17               (alaska, edu)   213  (southwestern, louisiana)  14.174718   \n",
       "18      (sandviknewton, apple)   211             (comme, aucun)  14.151998   \n",
       "19                 (cwru, edu)   204          (cites, enclosed)  14.088988   \n",
       "\n",
       "                        bigram          t                 bigram  \\\n",
       "0              (nntp, posting)  38.561834         (alink, ksand)   \n",
       "1              (posting, host)  38.518012     (carnegie, mellon)   \n",
       "2             (lines, article)  29.430273         (comme, aucun)   \n",
       "3                (lines, nntp)  24.262751       (evelyn, conlon)   \n",
       "4               (article, apr)  23.821560  (hatching, odwyersse)   \n",
       "5                  (nasa, gov)  22.763974         (hens, evelyn)   \n",
       "6   (organization, university)  22.611169    (mayans, televison)   \n",
       "7            (writes, article)  21.729291            (mchp, sni)   \n",
       "8        (distribution, world)  19.219727          (notre, dame)   \n",
       "9               (caltech, edu)  18.149871      (odwyersse, hens)   \n",
       "10                 (uiuc, edu)  18.000919      (televison, repo)   \n",
       "11       (lines, distribution)  17.519562  (cookamunga, tourist)   \n",
       "12                  (sgi, com)  17.199892  (isuvacation, venari)   \n",
       "13                (apple, com)  16.441819   (steinn, sigurdsson)   \n",
       "14                  (cmu, edu)  16.196986          (eau, claire)   \n",
       "15                  (wpd, sgi)  14.919111       (organpipe, uug)   \n",
       "16                 (cso, uiuc)  14.688487   (tmcspartan, brocku)   \n",
       "17               (world, nntp)  14.620603            (cacs, usl)   \n",
       "18              (toronto, edu)  14.566710             (bmd, trw)   \n",
       "19      (sandviknewton, apple)  14.517710      (cobbalexia, lis)   \n",
       "\n",
       "      chi-squared  \n",
       "0   582540.000000  \n",
       "1   582540.000000  \n",
       "2   582540.000000  \n",
       "3   582540.000000  \n",
       "4   582540.000000  \n",
       "5   582540.000000  \n",
       "6   582540.000000  \n",
       "7   582540.000000  \n",
       "8   582540.000000  \n",
       "9   582540.000000  \n",
       "10  582540.000000  \n",
       "11  573844.387948  \n",
       "12  569875.108620  \n",
       "13  566357.361053  \n",
       "14  560963.481439  \n",
       "15  560963.481439  \n",
       "16  556059.954511  \n",
       "17  552274.389135  \n",
       "18  551047.567113  \n",
       "19  544708.051370  "
      ]
     },
     "execution_count": 20,
     "metadata": {},
     "output_type": "execute_result"
    }
   ],
   "source": [
    "df_combined = pd.concat([bigramFreqTable_reset,bigramPMITable,bigramTtable,bigramchisqtable], axis=1)\n",
    "df_combined"
   ]
  },
  {
   "cell_type": "markdown",
   "metadata": {},
   "source": [
    "IMPLEMENTING MODELS\n",
    "\n",
    "---"
   ]
  },
  {
   "cell_type": "markdown",
   "metadata": {},
   "source": [
    "\n",
    "Answer : 2(a)\n",
    "\n",
    "----\n",
    "\n",
    "For the purpose of cleaning, numbers and non letter characters are removed and stored in variable clean_newsgroup_data in Section 1(a), afterwards following actions are performed - \n",
    "\n",
    "1.Tokenization\n",
    "\n",
    "2.Stop word removal\n",
    "\n",
    "3.Stemming\n",
    "\n",
    "\n",
    "\n",
    "\n"
   ]
  },
  {
   "cell_type": "markdown",
   "metadata": {},
   "source": [
    "Tokenization and POS Tagging\n",
    "\n",
    "---\n",
    "\n",
    "Since the data from newsgroup is a list of approximatelt 3387 documents we need to perform tokenization and tagging again for the model. In previous case all the text was taken in a single list which doesn't seem to appropiate in this case, since we have to use standard newsgroup target values to fit our model.Therefore, After removal of numbers and other non-letter characters, the words are tokenized and pos tagged. The basic cleaning was performed in Sectio. 1(a)\n",
    "\n",
    "---"
   ]
  },
  {
   "cell_type": "code",
   "execution_count": 21,
   "metadata": {},
   "outputs": [
    {
     "name": "stdout",
     "output_type": "stream",
     "text": [
      "3387\n",
      "3387\n"
     ]
    }
   ],
   "source": [
    "# Performing tokenisation (store in 'tokenized_text_full') and tagging\n",
    "\n",
    "\n",
    "tokenized_text_full = []\n",
    "postag_arr = []\n",
    "\n",
    "# 'clean_newsgroup_data' - Removed the numbers and non-letter character symbols\n",
    "\n",
    "for i in range(len(clean_newsgroup_data)):\n",
    "    \n",
    "    tokenized_text=word_tokenize(clean_newsgroup_data[i])\n",
    "    tokenized_text_full.append(tokenized_text)\n",
    "    newsgroup_pos = nltk.pos_tag(tokenized_text_full[i])\n",
    "    postag_arr.append(newsgroup_pos)\n",
    "    \n",
    "pprint(len(tokenized_text_full))\n",
    "pprint(len(postag_arr))"
   ]
  },
  {
   "cell_type": "markdown",
   "metadata": {},
   "source": [
    "Converting into the lowercase for removing stopwords in next step\n",
    "\n",
    "---"
   ]
  },
  {
   "cell_type": "code",
   "execution_count": 22,
   "metadata": {},
   "outputs": [],
   "source": [
    "# Converting the text into lower case (store in 'newsword_lower') which is required to remove stopwords accurately\n",
    "\n",
    "newsword_lower=[]\n",
    "for i in tokenized_text_full:\n",
    "    newsword_lower.append([x.lower() for x in i])\n",
    "    \n"
   ]
  },
  {
   "cell_type": "markdown",
   "metadata": {},
   "source": [
    "Remove Stopwords\n",
    "\n",
    "---\n",
    "\n",
    "Here the stop words (words which do not contain important significance) are removed.\n",
    "\n",
    "---"
   ]
  },
  {
   "cell_type": "code",
   "execution_count": 23,
   "metadata": {},
   "outputs": [
    {
     "name": "stdout",
     "output_type": "stream",
     "text": [
      "3387\n"
     ]
    }
   ],
   "source": [
    "# Removing stop words and store in 'filter_Sent' variable.\n",
    "\n",
    "filter_Sent = []\n",
    "tokenized_sent = newsword_lower\n",
    "for i in tokenized_sent:\n",
    "    filter_Sent.append([x for x in i if not x in stop_words]) \n",
    "pprint(len(filter_Sent))\n"
   ]
  },
  {
   "cell_type": "markdown",
   "metadata": {},
   "source": [
    "Removing words whose length is less than 2, since they do not make any sense for our analysis and thus considered as noise\n",
    "\n",
    "---"
   ]
  },
  {
   "cell_type": "code",
   "execution_count": 24,
   "metadata": {},
   "outputs": [
    {
     "name": "stdout",
     "output_type": "stream",
     "text": [
      "3387\n"
     ]
    }
   ],
   "source": [
    "# Removing letters with 2 or less words (store in variable 'filter_Sent1')\n",
    "\n",
    "filter_Sent1 = []\n",
    "tokenized_sent1 = filter_Sent\n",
    "for i in tokenized_sent1:\n",
    "    filter_Sent1.append([x for x in i if len(x)>2])\n",
    "pprint(len(filter_Sent1))"
   ]
  },
  {
   "cell_type": "markdown",
   "metadata": {},
   "source": [
    "Stemming\n",
    "___\n",
    "\n",
    "Here, the words are stemmed to its root word. It is useful for normalizing words.\n",
    "\n",
    "___"
   ]
  },
  {
   "cell_type": "code",
   "execution_count": 26,
   "metadata": {},
   "outputs": [
    {
     "name": "stdout",
     "output_type": "stream",
     "text": [
      "3387\n"
     ]
    }
   ],
   "source": [
    "# Peforming stemming to improve the quality of words ( store in variable 'stemmed_words')\n",
    "\n",
    "ps = PorterStemmer()\n",
    "stemmed_words=[]\n",
    "for i in filter_Sent1:\n",
    "    stemmed_words.append([ps.stem(x) for x in i])\n",
    "\n",
    "pprint(len(stemmed_words))"
   ]
  },
  {
   "cell_type": "code",
   "execution_count": 27,
   "metadata": {},
   "outputs": [
    {
     "name": "stdout",
     "output_type": "stream",
     "text": [
      "['healtasaturn', 'wwc', 'edu', 'tammi', 'heali', 'subject', 'judg', 'bobbi', 'line', 'organ', 'walla', 'walla', 'colleg', 'line', 'articl', 'apr', 'ultb', 'isc', 'rit', 'edu', 'snmultb', 'isc', 'rit', 'edu', 'mozumd', 'write', 'snmultb', 'isc', 'rit', 'edu', 'mozumd', 'subject', 'judg', 'bobbi', 'date', 'wed', 'apr', 'gmt', 'articl', 'healta', 'saturn', 'wwc', 'edu', 'healtasaturn', 'wwc', 'edu', 'tammi', 'heali', 'write', 'bobbi', 'would', 'like', 'take', 'liberti', 'quot', 'christian', 'writer', 'name', 'ellen', 'white', 'hope', 'said', 'help', 'edit', 'remark', 'group', 'futur', 'set', 'standard', 'make', 'opinion', 'view', 'duti', 'interpret', 'scriptur', 'criterion', 'other', 'heart', 'condemn', 'come', 'ideal', 'thought', 'fromth', 'mount', 'bless', 'hope', 'quot', 'make', 'atheist', 'gag', 'think', 'ellen', 'white', 'put', 'better', 'could', 'tammi', 'point', 'peac', 'bobbi', 'mozumd', 'point', 'set', 'view', 'way', 'believ', 'say', 'eveil', 'world', 'caus', 'atheism', 'ridicul', 'counterproduct', 'dialogu', 'newsgroup', 'see', 'post', 'spirit', 'condemn', 'atheist', 'newsgroup', 'bacaus', 'believ', 'exactli', 'tri', 'convert', 'atheist', 'fail', 'miser', 'want', 'posit', 'constantli', 'defend', 'agaist', 'insult', 'attack', 'like', 'seem', 'like', 'sorri', 'blind', 'get', 'messga', 'quot', 'everyon', 'els', 'seem', 'tammi']\n"
     ]
    }
   ],
   "source": [
    "print(stemmed_words[0])"
   ]
  },
  {
   "cell_type": "markdown",
   "metadata": {},
   "source": [
    "\n",
    "Answer : 2(b)\n",
    "\n",
    "In this section, the corpus has been converted into bag-of-words and counter vectorization has been performed on this."
   ]
  },
  {
   "cell_type": "code",
   "execution_count": 28,
   "metadata": {},
   "outputs": [
    {
     "data": {
      "text/plain": [
       "(3387, 27820)"
      ]
     },
     "execution_count": 28,
     "metadata": {},
     "output_type": "execute_result"
    }
   ],
   "source": [
    "# Performing vectorisation to covert the data from text format to numeric before feeding it to the model\n",
    "\n",
    "count_vect = CountVectorizer(tokenizer=lambda doc: doc, lowercase=False)\n",
    "X_train_counts = count_vect.fit_transform(stemmed_words)\n",
    "X_train_counts.shape"
   ]
  },
  {
   "cell_type": "code",
   "execution_count": 29,
   "metadata": {},
   "outputs": [
    {
     "data": {
      "text/plain": [
       "(3387, 27820)"
      ]
     },
     "execution_count": 29,
     "metadata": {},
     "output_type": "execute_result"
    }
   ],
   "source": [
    "# Transforming the data as per tf-idf\n",
    "\n",
    "tfidf_transformer = TfidfTransformer()\n",
    "X_train_tfidf = tfidf_transformer.fit_transform(X_train_counts)\n",
    "X_train_tfidf.shape"
   ]
  },
  {
   "cell_type": "markdown",
   "metadata": {},
   "source": [
    "Diving the dataset into Train and Test \n",
    "\n",
    "---"
   ]
  },
  {
   "cell_type": "markdown",
   "metadata": {},
   "source": [
    "MultinominalNB\n",
    "\n",
    "---\n",
    "\n",
    "Performing MultinomialNB on both processed and unprocessed data. In processed data, we are getting more accuracy when compared to accuracy in unprocessed data. ( alpha value:0.0005 )"
   ]
  },
  {
   "cell_type": "markdown",
   "metadata": {},
   "source": [
    "Classifier - On Processed data\n",
    "___\n",
    "\n",
    "\n",
    "Case 1: Testing the accuracy of MultinominalNB on fully processed data (removing number, non-character, stopword and performed stemming)\n",
    "\n",
    "\n",
    ">Accuracy 89% approx.\n",
    "___"
   ]
  },
  {
   "cell_type": "code",
   "execution_count": 56,
   "metadata": {},
   "outputs": [],
   "source": [
    "from sklearn.metrics import accuracy_score\n",
    "X = X_train_tfidf\n",
    "y = newsgroups_record.target\n",
    "X_train, X_test, y_train, y_test = train_test_split(X, y, test_size=0.3, random_state=11)"
   ]
  },
  {
   "cell_type": "code",
   "execution_count": 57,
   "metadata": {
    "scrolled": true
   },
   "outputs": [
    {
     "name": "stdout",
     "output_type": "stream",
     "text": [
      "Accuracy score : 0.9075712881022615\n",
      "Accuracy: 0.9075712881022615\n"
     ]
    }
   ],
   "source": [
    "# Calling the function to train the model. Passing Training data and test data as arguements. \n",
    "#trial1 = Pipeline([('classifier', MultinomialNB(alpha=0.00005))])\n",
    "\n",
    "\n",
    "classifier = MultinomialNB()\n",
    "classifier.fit(X_train, y_train)\n",
    "y_pred = classifier.predict(X_test)\n",
    "print(\"Accuracy score : \" + str(accuracy_score(y_test,y_pred)))\n",
    "\n",
    "print(\"Accuracy: \" + str(classifier.score(X_test, y_test)))\n",
    "\n",
    "\n"
   ]
  },
  {
   "cell_type": "markdown",
   "metadata": {},
   "source": [
    "CONFUSION MATRIX FOR MULTINOMIAL NB\n",
    "\n",
    "Here we can see in the Confusion matrix that most of the values are predicted correctly however the model is not able to identify few of the values and misclassified.\n",
    "\n",
    "---"
   ]
  },
  {
   "cell_type": "code",
   "execution_count": 58,
   "metadata": {},
   "outputs": [
    {
     "data": {
      "image/png": "[encoded data removed]",
      "text/plain": [
       "<Figure size 1080x720 with 2 Axes>"
      ]
     },
     "metadata": {
      "needs_background": "light"
     },
     "output_type": "display_data"
    }
   ],
   "source": [
    "from sklearn.metrics import confusion_matrix\n",
    "import matplotlib.pyplot as plt\n",
    "import seaborn as sns\n",
    "\n",
    "\n",
    "conf_mat = confusion_matrix(y_test, y_pred)\n",
    "labels=newsgroups_record.target_names\n",
    "# Plot confusion_matrix\n",
    "fig, ax = plt.subplots(figsize=(15, 10))\n",
    "sns.heatmap(conf_mat, annot=True, cmap = \"Set3\", fmt =\"d\",\n",
    "xticklabels=labels, yticklabels=labels)\n",
    "plt.ylabel('Actual')\n",
    "plt.xlabel('Predicted')\n",
    "plt.show()"
   ]
  },
  {
   "cell_type": "markdown",
   "metadata": {},
   "source": [
    "Classifier - On unprocessed data\n",
    "___\n",
    "\n",
    "Case 2: Testing the accuracy of MultinominalNB on un- processed data \n",
    "\n",
    ">Accuracy = 30% apprrox.\n",
    "___\n",
    "\n"
   ]
  },
  {
   "cell_type": "code",
   "execution_count": 33,
   "metadata": {},
   "outputs": [
    {
     "data": {
      "text/plain": [
       "(3387, 75)"
      ]
     },
     "execution_count": 33,
     "metadata": {},
     "output_type": "execute_result"
    }
   ],
   "source": [
    "# Performing vectorisation on uncleaned data to convert the data from text format to numeric before feeding it to the model\n",
    "\n",
    "count_vect_uncleaned = CountVectorizer(tokenizer=lambda doc: doc, lowercase=False)\n",
    "X_train_counts_uncleaned = count_vect.fit_transform(clean_newsgroup_data)\n",
    "X_train_counts_uncleaned.shape"
   ]
  },
  {
   "cell_type": "code",
   "execution_count": 34,
   "metadata": {},
   "outputs": [
    {
     "data": {
      "text/plain": [
       "(3387, 75)"
      ]
     },
     "execution_count": 34,
     "metadata": {},
     "output_type": "execute_result"
    }
   ],
   "source": [
    "# Transforming the data as per tf-idf\n",
    "\n",
    "tfidf_transformer = TfidfTransformer()\n",
    "X_train_tfidf_uncleaned = tfidf_transformer.fit_transform(X_train_counts_uncleaned)\n",
    "X_train_tfidf_uncleaned.shape"
   ]
  },
  {
   "cell_type": "code",
   "execution_count": 35,
   "metadata": {},
   "outputs": [],
   "source": [
    "from sklearn.metrics import accuracy_score\n",
    "X = X_train_tfidf_uncleaned\n",
    "y = newsgroups_record.target\n",
    "X_train, X_test, y_train, y_test = train_test_split(X, y, test_size=0.3, random_state=11)"
   ]
  },
  {
   "cell_type": "code",
   "execution_count": 36,
   "metadata": {},
   "outputs": [
    {
     "name": "stdout",
     "output_type": "stream",
     "text": [
      "Accuracy score : 0.2999016715830875\n",
      "Accuracy: 0.2999016715830875\n"
     ]
    }
   ],
   "source": [
    "# Calling the function to train the model. Passing Training data and test data as arguments. \n",
    "\n",
    "classifier = MultinomialNB()\n",
    "classifier.fit(X_train, y_train)\n",
    "y_pred = classifier.predict(X_test)\n",
    "print(\"Accuracy score : \" + str(accuracy_score(y_test,y_pred)))\n",
    "\n",
    "print(\"Accuracy: \" + str(classifier.score(X_test, y_test)))\n",
    "\n"
   ]
  },
  {
   "cell_type": "markdown",
   "metadata": {},
   "source": [
    "Classifer - SVM - SVC\n",
    "___\n",
    "Case 1: Testing the accuracy of SVM Classifier on processed data.\n",
    "\n",
    "\n",
    "Consideration - gamma as scale, Accuracy =  94%approx.\n",
    "___"
   ]
  },
  {
   "cell_type": "code",
   "execution_count": 37,
   "metadata": {},
   "outputs": [],
   "source": [
    "from sklearn.metrics import accuracy_score\n",
    "\n",
    "X = X_train_tfidf\n",
    "y = newsgroups_record.target\n",
    "X_train, X_test, y_train, y_test = train_test_split(X, y, test_size=0.3, random_state=11)"
   ]
  },
  {
   "cell_type": "code",
   "execution_count": 38,
   "metadata": {},
   "outputs": [
    {
     "name": "stdout",
     "output_type": "stream",
     "text": [
      "Accuracy score : 0.9478859390363815\n",
      "Accuracy: 0.9478859390363815\n"
     ]
    }
   ],
   "source": [
    "from sklearn import svm\n",
    "\n",
    "\n",
    "classifier = svm.SVC(gamma='scale')\n",
    "\n",
    "classifier.fit(X_train, y_train)\n",
    "y_pred = classifier.predict(X_test)\n",
    "print(\"Accuracy score : \" + str(accuracy_score(y_test,y_pred)))\n",
    "\n",
    "print(\"Accuracy: \" + str(classifier.score(X_test, y_test)))\n",
    "\n"
   ]
  },
  {
   "cell_type": "markdown",
   "metadata": {},
   "source": [
    "CONFUSION MATRIX FOR SVC\n",
    "\n",
    "---"
   ]
  },
  {
   "cell_type": "code",
   "execution_count": 39,
   "metadata": {},
   "outputs": [
    {
     "data": {
      "image/png": "[encoded data removed]",
      "text/plain": [
       "<Figure size 1080x720 with 2 Axes>"
      ]
     },
     "metadata": {
      "needs_background": "light"
     },
     "output_type": "display_data"
    }
   ],
   "source": [
    "# Confusion matrix for SVC on processed data.\n",
    "\n",
    "\n",
    "conf_mat = confusion_matrix(y_test, y_pred)\n",
    "labels=newsgroups_record.target_names\n",
    "# Plot confusion_matrix\n",
    "fig, ax = plt.subplots(figsize=(15, 10))\n",
    "sns.heatmap(conf_mat, annot=True, cmap = \"Set3\", fmt =\"d\",\n",
    "xticklabels=labels, yticklabels=labels)\n",
    "plt.ylabel('Actual')\n",
    "plt.xlabel('Predicted')\n",
    "plt.show()"
   ]
  },
  {
   "cell_type": "markdown",
   "metadata": {},
   "source": [
    "On comparing both Mulinomial NB and SVC, without using and parameter like alpha, Mulinomial NB is yielding around 89% of accuracy whereas SVM yields only approx. 94.7% of accuracy. But when we used parameter alpha=0000.5 in Mulinomial NB, its efficiency increases to 94.6%. Along with this, after changing the kernel paramater SVM's performance is getting more better.\n",
    "\n",
    "So in general case, SVM seems to perform better in comparision to MultinomialNB.However, if LinearSVC is used, it is yielding accuracy of 95.3% which is highest among all.\n",
    "Since we have alot of overlapping in the data as seen in the previous section, SVM tends to perform better. And along with that, we have enough data to train the SVM classsifier at best and hence its yielding better performance than Mulinomial NB."
   ]
  },
  {
   "cell_type": "markdown",
   "metadata": {},
   "source": [
    "Classifer - SVM - LinearSVC\n",
    "___\n",
    "Case 2: Testing the accuracy of SVM Classifier on processed data \n",
    "\n",
    "Using Linear SVC , Accuracy =  95%apprrox.\n",
    "___"
   ]
  },
  {
   "cell_type": "code",
   "execution_count": 40,
   "metadata": {},
   "outputs": [
    {
     "name": "stdout",
     "output_type": "stream",
     "text": [
      "Accuracy score : 0.9537856440511308\n",
      "Accuracy: 0.9537856440511308\n"
     ]
    }
   ],
   "source": [
    "classifier = svm.LinearSVC()\n",
    "classifier.fit(X_train, y_train)\n",
    "y_pred = classifier.predict(X_test)\n",
    "print(\"Accuracy score : \" + str(accuracy_score(y_test,y_pred)))\n",
    "print(\"Accuracy: \" + str(classifier.score(X_test, y_test)))"
   ]
  },
  {
   "cell_type": "code",
   "execution_count": 41,
   "metadata": {},
   "outputs": [
    {
     "data": {
      "image/png": "[encoded data removed]",
      "text/plain": [
       "<Figure size 1080x720 with 2 Axes>"
      ]
     },
     "metadata": {
      "needs_background": "light"
     },
     "output_type": "display_data"
    }
   ],
   "source": [
    "# Confusion matrix for SVC on processed data.\n",
    "\n",
    "\n",
    "conf_mat = confusion_matrix(y_test, y_pred)\n",
    "labels=newsgroups_record.target_names\n",
    "# Plot confusion_matrix\n",
    "fig, ax = plt.subplots(figsize=(15, 10))\n",
    "sns.heatmap(conf_mat, annot=True, cmap = \"Set3\", fmt =\"d\",\n",
    "xticklabels=labels, yticklabels=labels)\n",
    "plt.ylabel('Actual')\n",
    "plt.xlabel('Predicted')\n",
    "plt.show()"
   ]
  },
  {
   "cell_type": "markdown",
   "metadata": {},
   "source": [
    "Changing the kernel for SVM classifier\n",
    "\n",
    "___\n",
    "\n",
    "Case 3: Testing the accuracy of SVM Classifier on processed data \n",
    "\n",
    "Yes. changing the kernel is increasing the performance of classifier and it gives best accuracy with linear kernel in coparision to other kernels.\n",
    "It is notable that, classifier is giving different accuracy based on situation provided.\n",
    "\n",
    ">Kernel 'Sigmoid' yielding around 27% of accuracy in general but when its gamma parameter is taken into consideration, its performance increases\n",
    "\n",
    "\n",
    ">Kernel 'rbf' yielding around 27% of accuracy but with parameter its accuracy increases\n",
    "\n",
    "\n",
    "\n",
    "___"
   ]
  },
  {
   "cell_type": "markdown",
   "metadata": {},
   "source": [
    "\n",
    "Classifer - SVM - SVC (with linear kernel )\n",
    "Accuracy =  95.8 %apprrox.\n",
    "\n",
    "---"
   ]
  },
  {
   "cell_type": "code",
   "execution_count": 42,
   "metadata": {},
   "outputs": [
    {
     "name": "stdout",
     "output_type": "stream",
     "text": [
      "Accuracy score : 0.9587020648967551\n",
      "Accuracy: 0.9587020648967551\n"
     ]
    }
   ],
   "source": [
    "classifier = svm.SVC(kernel='linear')\n",
    "classifier.fit(X_train, y_train)\n",
    "y_pred = classifier.predict(X_test)\n",
    "print(\"Accuracy score : \" + str(accuracy_score(y_test,y_pred)))\n",
    "print(\"Accuracy: \" + str(classifier.score(X_test, y_test)))"
   ]
  },
  {
   "cell_type": "markdown",
   "metadata": {},
   "source": [
    "Classifer - SVM - SVC (with sigmoid kernel )\n",
    "___\n",
    "\n",
    "Case 4: Testing the accuracy of SVM Classifier on processed data.\n",
    "\n",
    "\n",
    ">Accuracy =  27.8 %approx.,\n",
    "\n",
    ">Accuracy =  95.1 %approx. with gamma = scale,\n",
    "\n",
    ">Accuracy =  81 %approx. with gamma = 0.1\n",
    "___\n"
   ]
  },
  {
   "cell_type": "code",
   "execution_count": 43,
   "metadata": {},
   "outputs": [
    {
     "name": "stdout",
     "output_type": "stream",
     "text": [
      "Accuracy score : 0.8180924287118977\n",
      "Accuracy: 0.8180924287118977\n"
     ]
    }
   ],
   "source": [
    "classifier = svm.SVC(kernel='sigmoid',gamma=0.1)\n",
    "classifier.fit(X_train, y_train)\n",
    "y_pred = classifier.predict(X_test)\n",
    "print(\"Accuracy score : \" + str(accuracy_score(y_test,y_pred)))\n",
    "print(\"Accuracy: \" + str(classifier.score(X_test, y_test)))"
   ]
  },
  {
   "cell_type": "markdown",
   "metadata": {},
   "source": [
    "Classifer - SVM - SVC (with rbf kernel )\n",
    "___\n",
    "\n",
    "Case 5: Testing the accuracy of SVM Classifier on processed data.\n",
    "\n",
    "\n",
    ">Accuracy =  27.8 %apprrox.,\n",
    "\n",
    ">Accuracy = 89.1 % approx. with gamma = 0.1,\n",
    "\n",
    ">Accuracy = 94 % approx. with gamma = 0.5,\n",
    "\n",
    ">Accuracy = 93.9%approx. with gamma as scale.\n",
    "___"
   ]
  },
  {
   "cell_type": "code",
   "execution_count": 44,
   "metadata": {},
   "outputs": [
    {
     "name": "stdout",
     "output_type": "stream",
     "text": [
      "Accuracy score : 0.9478859390363815\n",
      "Accuracy: 0.9478859390363815\n"
     ]
    }
   ],
   "source": [
    "from sklearn.svm import SVC\n",
    "classifier = svm.SVC(kernel='rbf',gamma=0.5)\n",
    "classifier.fit(X_train, y_train)\n",
    "y_pred = classifier.predict(X_test)\n",
    "print(\"Accuracy score : \" + str(accuracy_score(y_test,y_pred)))\n",
    "print(\"Accuracy: \" + str(classifier.score(X_test, y_test)))"
   ]
  },
  {
   "cell_type": "markdown",
   "metadata": {},
   "source": [
    "Answer : 2(d)\n",
    "\n",
    "---\n"
   ]
  },
  {
   "cell_type": "markdown",
   "metadata": {},
   "source": [
    "Perform POS Tagging on Raw Uncleaned data\n",
    "\n",
    "(stored in variable 'newsgroups_record.data')\n",
    "\n",
    "---\n",
    "\n",
    "Taking the uncleaned raw data, tokenization and then tagging is performed.\n",
    "\n",
    "---"
   ]
  },
  {
   "cell_type": "code",
   "execution_count": 45,
   "metadata": {},
   "outputs": [
    {
     "name": "stdout",
     "output_type": "stream",
     "text": [
      "3387\n"
     ]
    }
   ],
   "source": [
    "pprint(len(newsgroups_record.data))"
   ]
  },
  {
   "cell_type": "code",
   "execution_count": 46,
   "metadata": {},
   "outputs": [
    {
     "name": "stdout",
     "output_type": "stream",
     "text": [
      "3387\n",
      "3387\n"
     ]
    }
   ],
   "source": [
    "# Performing tokenization (store in 'tokenized_text_uncleaned') and tagging on raw data\n",
    "\n",
    "\n",
    "tokenized_text_uncleaned = []\n",
    "postag_arr_uncleaned = []\n",
    "\n",
    "# 'newsgroups_record.data' - Removed the numbers and non-letter character symbols\n",
    "\n",
    "for i in range(len(newsgroups_record.data)):\n",
    "    \n",
    "    tokenized_text_1=word_tokenize(newsgroups_record.data[i])\n",
    "    tokenized_text_uncleaned.append(tokenized_text_1)\n",
    "    newsgroup_pos_1 = nltk.pos_tag(tokenized_text_uncleaned[i])\n",
    "    postag_arr_uncleaned.append(newsgroup_pos_1)\n",
    "    \n",
    "pprint(len(tokenized_text_full))\n",
    "pprint(len(postag_arr))"
   ]
  },
  {
   "cell_type": "markdown",
   "metadata": {},
   "source": [
    "---\n",
    "\n",
    "EXTRACTING NOUNS FROM THE CLEAN DATA \n",
    "___\n",
    " \n",
    "The clean data obtained after performing \n",
    "\n",
    "1.Removed letter and other non-letter characters\n",
    "\n",
    "2.Removed stop words \n",
    "\n",
    "3.Performed stemming\n",
    "\n",
    "Note :  In Section 1(a), cleaning and stemming was done and it was stored in 'stemmed_words' variable. Now here we are extracting only NN words from the dataset."
   ]
  },
  {
   "cell_type": "code",
   "execution_count": 47,
   "metadata": {},
   "outputs": [
    {
     "name": "stdout",
     "output_type": "stream",
     "text": [
      "3387\n"
     ]
    }
   ],
   "source": [
    "postag_arr1 = []\n",
    "for i in range(len(filter_Sent1)):          \n",
    "    newsgroup_pos1 = nltk.pos_tag(filter_Sent1[i])\n",
    "    nouns = [word for (word, pos) in newsgroup_pos1 if pos in ['NN']]\n",
    "    postag_arr1.append(nouns)\n",
    "pprint(len(postag_arr1))\n",
    "   "
   ]
  },
  {
   "cell_type": "markdown",
   "metadata": {},
   "source": [
    "Performing Vectorization and tf-idf on new data which only contains NN\n",
    "\n",
    "---\n"
   ]
  },
  {
   "cell_type": "code",
   "execution_count": 49,
   "metadata": {},
   "outputs": [
    {
     "data": {
      "text/plain": [
       "(3387, 19522)"
      ]
     },
     "execution_count": 49,
     "metadata": {},
     "output_type": "execute_result"
    }
   ],
   "source": [
    "count_vect = CountVectorizer(tokenizer=lambda doc: doc, lowercase=False)\n",
    "X_train_counts = count_vect.fit_transform(postag_arr1)\n",
    "X_train_counts.shape"
   ]
  },
  {
   "cell_type": "code",
   "execution_count": 50,
   "metadata": {},
   "outputs": [
    {
     "data": {
      "text/plain": [
       "(3387, 19522)"
      ]
     },
     "execution_count": 50,
     "metadata": {},
     "output_type": "execute_result"
    }
   ],
   "source": [
    "tfidf_transformer = TfidfTransformer()\n",
    "X_train_tfidf = tfidf_transformer.fit_transform(X_train_counts)\n",
    "X_train_tfidf.shape"
   ]
  },
  {
   "cell_type": "code",
   "execution_count": 51,
   "metadata": {},
   "outputs": [],
   "source": [
    "from sklearn.metrics import accuracy_score\n",
    "X = X_train_tfidf\n",
    "y = newsgroups_record.target\n",
    "X_train, X_test, y_train, y_test = train_test_split(X, y, test_size=0.3, random_state=11)"
   ]
  },
  {
   "cell_type": "markdown",
   "metadata": {},
   "source": [
    "Multinomial NB and its Accuracy with only NN data\n",
    "\n",
    "---\n",
    "\n",
    "Naive's bayes was implemented on extracted bag of words which contains 'NN' ( Stored in variable 'postag_arr1'). Here , with 'NN' bag of words there is a slight increase in accuracy from 89.4% to 90.5%. "
   ]
  },
  {
   "cell_type": "code",
   "execution_count": 52,
   "metadata": {},
   "outputs": [
    {
     "name": "stdout",
     "output_type": "stream",
     "text": [
      "Accuracy score : 0.9075712881022615\n",
      "Accuracy: 0.9075712881022615\n"
     ]
    }
   ],
   "source": [
    "# Calling the function to train the model. Passing Training data and test data as arguements. \n",
    "\n",
    "classifier = MultinomialNB()\n",
    "classifier.fit(X_train, y_train)\n",
    "y_pred = classifier.predict(X_test)\n",
    "print(\"Accuracy score : \" + str(accuracy_score(y_test,y_pred)))\n",
    "\n",
    "print(\"Accuracy: \" + str(classifier.score(X_test, y_test)))\n"
   ]
  },
  {
   "cell_type": "markdown",
   "metadata": {},
   "source": [
    "SVC\n",
    "\n",
    "---\n",
    "\n",
    "SVC was implemented on extracted bag of words which contains 'NN'.\n",
    "(Stored in variable 'postag_arr1'). Here , with 'NN' bag of words there is a slight increase in accuracy from 94.7% to 95.1%. \n",
    "\n",
    "---"
   ]
  },
  {
   "cell_type": "code",
   "execution_count": 53,
   "metadata": {},
   "outputs": [
    {
     "name": "stdout",
     "output_type": "stream",
     "text": [
      "Accuracy score : 0.9301868239921337\n",
      "Accuracy: 0.9301868239921337\n"
     ]
    }
   ],
   "source": [
    "classifier = svm.SVC(gamma='scale')\n",
    "classifier.fit(X_train, y_train)\n",
    "y_pred = classifier.predict(X_test)\n",
    "print(\"Accuracy score : \" + str(accuracy_score(y_test,y_pred)))\n",
    "print(\"Accuracy: \" + str(classifier.score(X_test, y_test)))"
   ]
  },
  {
   "cell_type": "markdown",
   "metadata": {},
   "source": [
    "Vocabulary Comparison\n",
    "\n",
    "---\n",
    "\n",
    "On comparing vocabulary count after extracting the nouns only, the vocabulary count was less, almost half of what we started with. \n",
    "The calculation is shown below.\n",
    "\n",
    "---\n",
    "\n"
   ]
  },
  {
   "cell_type": "code",
   "execution_count": 54,
   "metadata": {},
   "outputs": [
    {
     "name": "stdout",
     "output_type": "stream",
     "text": [
      "582540\n"
     ]
    }
   ],
   "source": [
    "#vocabulary count of cleaned data\n",
    "count_vocab = []\n",
    "for i in range(len(stemmed_words)):\n",
    "    for w in stemmed_words[i]:\n",
    "        count_vocab.append(w)\n",
    "pprint(len(count_vocab))     "
   ]
  },
  {
   "cell_type": "code",
   "execution_count": 55,
   "metadata": {},
   "outputs": [
    {
     "name": "stdout",
     "output_type": "stream",
     "text": [
      "235273\n"
     ]
    }
   ],
   "source": [
    "#vocabulary count of data having only NN \n",
    "\n",
    "count_vocab1 = []\n",
    "for i in range(len(postag_arr1)):\n",
    "    for w in postag_arr1[i]:\n",
    "        count_vocab1.append(w)\n",
    "pprint(len(count_vocab1))     "
   ]
  },
  {
   "cell_type": "markdown",
   "metadata": {},
   "source": [
    "References\n",
    "\n",
    "1. “5.6.2. The 20 newsgroups text dataset¶,” scikit. [Online]. Available: https://scikit-learn.org/0.19/datasets/twenty_newsgroups.html. [Accessed: 13-Jul-2019]. \n",
    "\n",
    "2. /@nicharuch, “Collocations - identifying phrases that act like single words in Natural Language Processing,” Medium, 20-Mar-2018. [Online]. Available: https://medium.com/@nicharuch/collocations-identifying-phrases-that-act-like-individual-words-in-nlp-f58a93a2f84a. [Accessed: 17-Jul-2019]. \n",
    "\n",
    "3. “sklearn.naive_bayes.MultinomialNB¶,” scikit. [Online]. Available: https://scikit-learn.org/stable/modules/generated/sklearn.naive_bayes.MultinomialNB.html. [Accessed: 17-Jul-2019]. \n",
    "\n",
    "4. “sklearn.metrics.confusion_matrix¶,” scikit. [Online]. Available: https://scikit-learn.org/stable/modules/generated/sklearn.metrics.confusion_matrix.html. [Accessed: 17-Jul-2019]. \n",
    "\n",
    "5. Collocations. [Online]. Available: http://www.nltk.org/howto/collocations.html. [Accessed: 15-Jul-2019]. \n",
    "\n"
   ]
  },
  {
   "cell_type": "code",
   "execution_count": null,
   "metadata": {},
   "outputs": [],
   "source": []
  }
 ],
 "metadata": {
  "kernelspec": {
   "display_name": "Python 3",
   "language": "python",
   "name": "python3"
  },
  "language_info": {
   "codemirror_mode": {
    "name": "ipython",
    "version": 3
   },
   "file_extension": ".py",
   "mimetype": "text/x-python",
   "name": "python",
   "nbconvert_exporter": "python",
   "pygments_lexer": "ipython3",
   "version": "3.7.3"
  }
 },
 "nbformat": 4,
 "nbformat_minor": 2
}
